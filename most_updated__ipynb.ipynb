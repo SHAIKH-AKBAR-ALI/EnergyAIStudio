version https://git-lfs.github.com/spec/v1
oid sha256:588b588464f7ffa581739cd5caae3cdf6be4ba78337ff6def90820d60366b8cf
size 18276949
